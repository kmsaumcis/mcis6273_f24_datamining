{
 "cells": [
  {
   "cell_type": "code",
   "execution_count": null,
   "id": "f7dfc74a-b485-445e-b616-37971550dc57",
   "metadata": {
    "tags": []
   },
   "outputs": [],
   "source": [
    "def generate_gutenberg_dataset(guten_ids, outfile):\n",
    "    import requests\n",
    "    import time\n",
    "\n",
    "    data = \"\"\n",
    "\n",
    "    for idf in guten_ids:\n",
    "        url = f\"https://www.gutenberg.org/ebooks/{idf}.txt.utf-8\"\n",
    "        print(url)\n",
    "        with requests.get(url) as r:\n",
    "            data = data + r.content.decode(\"utf-8\")\n",
    "            print(f\"[info]: data obtained from {url}\")\n",
    "            time.sleep(10)\n",
    "\n",
    "    with open(outfile, \"w\") as fo:\n",
    "        fo.write(data)"
   ]
  },
  {
   "cell_type": "code",
   "execution_count": null,
   "id": "b3dc41f0-ac0f-4738-8fee-fc77dfc5c46b",
   "metadata": {},
   "outputs": [],
   "source": [
    "## YOUR CODE GOES HERE\n",
    "\n",
    "herodotus = []\n",
    "lewis_carroll = []\n",
    "f_s_fitzgerald = []\n",
    "t_smollett = []"
   ]
  },
  {
   "cell_type": "code",
   "execution_count": null,
   "id": "a650148a-1e9f-4155-b2f3-f55262983733",
   "metadata": {
    "tags": []
   },
   "outputs": [],
   "source": [
    "## THIS CODE SHOULD NOT BE CHANGED!\n",
    "\n",
    "generate_gutenberg_dataset(herodotus, \"herodotus.txt\")\n",
    "generate_gutenberg_dataset(lewis_carroll, \"lewis_carroll.txt\")\n",
    "generate_gutenberg_dataset(f_s_fitzgerald, \"f_s_fitzgerald.txt\")\n",
    "generate_gutenberg_dataset(t_smollett, \"t_smollett.txt\")\n"
   ]
  },
  {
   "cell_type": "code",
   "execution_count": null,
   "id": "ac516faf-a0b6-4ea2-9084-8f9116bac724",
   "metadata": {
    "tags": []
   },
   "outputs": [],
   "source": [
    "## THIS IS YOUR TRAINING SET. DO NOT CHANGE!\n",
    "\n",
    "test = [\n",
    "    4084, 55758, 4368, 651\n",
    "]\n",
    "\n",
    "generate_gutenberg_dataset([test[0]], \"t_smollett_test.txt\")\n",
    "generate_gutenberg_dataset([test[1]], \"herodotus_test.txt\")\n",
    "generate_gutenberg_dataset([test[2]], \"f_s_fitzgerald_test.txt\")\n",
    "generate_gutenberg_dataset([test[3]], \"lewis_carroll_test.txt\")"
   ]
  },
  {
   "cell_type": "code",
   "execution_count": null,
   "id": "9b645644-0c92-427e-95ef-97c0e3969195",
   "metadata": {},
   "outputs": [],
   "source": [
    "test_train_documents = \n",
    "    [\n",
    "\n",
    "    ]\n",
    "    \n",
    "test_classes = [1, 2, 3, 4] ## DO NOT CHANGE"
   ]
  },
  {
   "cell_type": "code",
   "execution_count": null,
   "id": "c293bedb-37a1-4cd0-bf48-37b2d3a60308",
   "metadata": {
    "tags": []
   },
   "outputs": [],
   "source": [
    "from sklearn.feature_extraction.text import TfidfVectorizer\n",
    "\n",
    "vectorizer = TfidfVectorizer(input=\"filename\", stop_words=\"english\")"
   ]
  },
  {
   "cell_type": "code",
   "execution_count": null,
   "id": "a5e8731b-fca2-4a78-b02a-c7d1cf4b6592",
   "metadata": {
    "tags": []
   },
   "outputs": [],
   "source": [
    "## COMPLETE THIS\n",
    "\n",
    "X = None # you will need to set the vectorized to be ALL documents\n"
   ]
  },
  {
   "cell_type": "code",
   "execution_count": null,
   "id": "0c39661f-f7e2-4678-9cc5-7c7e21c4007d",
   "metadata": {
    "tags": []
   },
   "outputs": [],
   "source": [
    "from sklearn.naive_bayes import MultinomialNB\n",
    "clf = MultinomialNB()\n",
    "y = test_classes\n",
    "\n",
    "### DO THIS: call the fit() method on the first 4 documents of X and the classes in y"
   ]
  },
  {
   "cell_type": "code",
   "execution_count": null,
   "id": "453df1b1-0f32-4732-8a10-7f8bf9576926",
   "metadata": {
    "tags": []
   },
   "outputs": [],
   "source": [
    "## DO NOT CHANGE!\n",
    "clf.predict(X[4:])"
   ]
  }
 ],
 "metadata": {
  "kernelspec": {
   "display_name": "Python 3 (ipykernel)",
   "language": "python",
   "name": "python3"
  },
  "language_info": {
   "codemirror_mode": {
    "name": "ipython",
    "version": 3
   },
   "file_extension": ".py",
   "mimetype": "text/x-python",
   "name": "python",
   "nbconvert_exporter": "python",
   "pygments_lexer": "ipython3",
   "version": "3.11.4"
  }
 },
 "nbformat": 4,
 "nbformat_minor": 5
}
